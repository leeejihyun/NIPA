{
 "cells": [
  {
   "cell_type": "markdown",
   "metadata": {},
   "source": [
    "# Library"
   ]
  },
  {
   "cell_type": "markdown",
   "metadata": {},
   "source": [
    "### Install albumentations for data augmentation"
   ]
  },
  {
   "cell_type": "code",
   "execution_count": null,
   "metadata": {},
   "outputs": [],
   "source": [
    "!pip install albumentations"
   ]
  },
  {
   "cell_type": "code",
   "execution_count": null,
   "metadata": {},
   "outputs": [],
   "source": [
    "from PIL import Image\n",
    "import cv2\n",
    "import numpy as np\n",
    "import time\n",
    "import torch\n",
    "import torchvision\n",
    "from torch.utils.data import Dataset\n",
    "from torchvision import transforms\n",
    "import albumentations\n",
    "import albumentations.pytorch\n",
    "from matplotlib import pyplot as plt\n",
    "import pandas as pd\n",
    "import os\n",
    "import shutil"
   ]
  },
  {
   "cell_type": "markdown",
   "metadata": {},
   "source": [
    "# Data augmentation test"
   ]
  },
  {
   "cell_type": "markdown",
   "metadata": {},
   "source": [
    "https://github.com/albumentations-team/albumentations_examples/blob/master/notebooks/example.ipynb\n",
    "https://hoya012.github.io/blog/albumentation_tutorial/"
   ]
  },
  {
   "cell_type": "markdown",
   "metadata": {},
   "source": [
    "### Read the image from the disk and convert it from the BGR color space to the RGB color space"
   ]
  },
  {
   "cell_type": "code",
   "execution_count": null,
   "metadata": {},
   "outputs": [],
   "source": [
    "image = cv2.imread('../../data/.train/.task153/data/train/11.tif')\n",
    "image = cv2.cvtColor(image, cv2.COLOR_BGR2RGB)\n",
    "plt.imshow(image)"
   ]
  },
  {
   "cell_type": "markdown",
   "metadata": {},
   "source": [
    "### Horizontal Flip"
   ]
  },
  {
   "cell_type": "code",
   "execution_count": null,
   "metadata": {},
   "outputs": [],
   "source": [
    "transform = albumentations.HorizontalFlip(p=1)\n",
    "augmented_image = transform(image=image)['image']\n",
    "plt.imshow(augmented_image)"
   ]
  },
  {
   "cell_type": "markdown",
   "metadata": {},
   "source": [
    "### Rotation"
   ]
  },
  {
   "cell_type": "code",
   "execution_count": null,
   "metadata": {},
   "outputs": [],
   "source": [
    "transform = albumentations.RandomRotate90(p=1)\n",
    "augmented_image = transform(image=image)['image']\n",
    "plt.imshow(augmented_image)"
   ]
  },
  {
   "cell_type": "markdown",
   "metadata": {},
   "source": [
    "### Vertical Flip"
   ]
  },
  {
   "cell_type": "code",
   "execution_count": null,
   "metadata": {},
   "outputs": [],
   "source": [
    "transform = albumentations.VerticalFlip(p=1)\n",
    "augmented_image = transform(image=image)['image']\n",
    "plt.imshow(augmented_image)"
   ]
  },
  {
   "cell_type": "markdown",
   "metadata": {},
   "source": [
    "### Blur"
   ]
  },
  {
   "cell_type": "code",
   "execution_count": null,
   "metadata": {},
   "outputs": [],
   "source": [
    "transform = albumentations.MotionBlur(p=1)\n",
    "augmented_image = transform(image=image)['image']\n",
    "plt.imshow(augmented_image)"
   ]
  },
  {
   "cell_type": "markdown",
   "metadata": {},
   "source": [
    "### Distortion"
   ]
  },
  {
   "cell_type": "code",
   "execution_count": null,
   "metadata": {},
   "outputs": [],
   "source": [
    "transform = albumentations.OpticalDistortion(p=1)\n",
    "augmented_image = transform(image=image)['image']\n",
    "plt.imshow(augmented_image)"
   ]
  },
  {
   "cell_type": "markdown",
   "metadata": {},
   "source": [
    "### Noise"
   ]
  },
  {
   "cell_type": "code",
   "execution_count": null,
   "metadata": {},
   "outputs": [],
   "source": [
    "transform = albumentations.GaussNoise(p=1)\n",
    "augmented_image = transform(image=image)['image']\n",
    "plt.imshow(augmented_image)"
   ]
  },
  {
   "cell_type": "markdown",
   "metadata": {},
   "source": [
    "### RandomBrightness"
   ]
  },
  {
   "cell_type": "code",
   "execution_count": null,
   "metadata": {},
   "outputs": [],
   "source": [
    "transform = albumentations.RandomBrightness(p=1)\n",
    "augmented_image = transform(image=image)['image']\n",
    "plt.imshow(augmented_image)"
   ]
  },
  {
   "cell_type": "markdown",
   "metadata": {},
   "source": [
    "### Show test images"
   ]
  },
  {
   "cell_type": "code",
   "execution_count": null,
   "metadata": {},
   "outputs": [],
   "source": [
    "fig, ax = plt.subplots(1, 10, figsize=(25, 25))\n",
    "for i in range(10):\n",
    "    path = '../../data/.train/.task153/data/test/' + str(i) + '.tif'\n",
    "    img = plt.imread(path)\n",
    "    ax[i].imshow(img)\n",
    "    ax[i].axis('off')"
   ]
  },
  {
   "cell_type": "markdown",
   "metadata": {},
   "source": [
    "# Data Augmentation"
   ]
  },
  {
   "cell_type": "markdown",
   "metadata": {},
   "source": [
    "### Read train.csv as data frame"
   ]
  },
  {
   "cell_type": "code",
   "execution_count": null,
   "metadata": {},
   "outputs": [],
   "source": [
    "train_csv_path = '../../data/.train/.task153/data/train/train.csv'\n",
    "train_df = pd.read_csv(train_csv_path)\n",
    "train_df.head()"
   ]
  },
  {
   "cell_type": "code",
   "execution_count": null,
   "metadata": {},
   "outputs": [],
   "source": [
    "file_name_list = list(train_df['file_name'])\n",
    "file_name_list[:3]"
   ]
  },
  {
   "cell_type": "code",
   "execution_count": null,
   "metadata": {},
   "outputs": [],
   "source": [
    "img_idx_list = [int(file_name.split('.')[0]) for file_name in file_name_list]\n",
    "img_idx_list[:5], len(img_idx_list)"
   ]
  },
  {
   "cell_type": "code",
   "execution_count": null,
   "metadata": {},
   "outputs": [],
   "source": [
    "train_df.tail()"
   ]
  },
  {
   "cell_type": "code",
   "execution_count": null,
   "metadata": {},
   "outputs": [],
   "source": [
    "len(train_df)"
   ]
  },
  {
   "cell_type": "code",
   "execution_count": null,
   "metadata": {},
   "outputs": [],
   "source": [
    "img_idx_list[-5:]"
   ]
  },
  {
   "cell_type": "markdown",
   "metadata": {},
   "source": [
    "### Copy train.csv to my workspace"
   ]
  },
  {
   "cell_type": "code",
   "execution_count": null,
   "metadata": {},
   "outputs": [],
   "source": [
    "train_df.to_csv(\"/home/workspace/user-workspace/leeejihyun/data/train/train.csv\", index=False)\n",
    "# shutil.copy(\"../../data/.train/.task153/data/train/train.csv\", \"/home/workspace/user-workspace/leeejihyun/data/train/train.csv\")"
   ]
  },
  {
   "cell_type": "markdown",
   "metadata": {},
   "source": [
    "### Copy train images to my workspace"
   ]
  },
  {
   "cell_type": "code",
   "execution_count": null,
   "metadata": {},
   "outputs": [],
   "source": [
    "for file_name in file_name_list:\n",
    "    shutil.copy('../../data/.train/.task153/data/train/' + file_name, \"/home/workspace/user-workspace/leeejihyun/data/train/\" + file_name)"
   ]
  },
  {
   "cell_type": "code",
   "execution_count": null,
   "metadata": {},
   "outputs": [],
   "source": [
    "transform = albumentations.Compose([\n",
    "    albumentations.Resize(68, 68), \n",
    "    albumentations.RandomCrop(66, 66),\n",
    "    albumentations.OneOf([\n",
    "                          albumentations.HorizontalFlip(p=1),\n",
    "                          albumentations.RandomRotate90(p=1),\n",
    "                          albumentations.VerticalFlip(p=1)            \n",
    "    ], p=1),\n",
    "    albumentations.OneOf([\n",
    "                          albumentations.MotionBlur(p=1),\n",
    "                          albumentations.OpticalDistortion(p=1),\n",
    "                          albumentations.GaussNoise(p=1),\n",
    "                          albumentations.RandomBrightness(p=1)\n",
    "    ], p=1)\n",
    "])"
   ]
  },
  {
   "cell_type": "markdown",
   "metadata": {},
   "source": [
    "### Data augmentation by 4 per image"
   ]
  },
  {
   "cell_type": "code",
   "execution_count": null,
   "metadata": {},
   "outputs": [],
   "source": [
    "num_samples = 4\n",
    "\n",
    "for img_idx in img_idx_list:\n",
    "    img = cv2.imread('/home/workspace/user-workspace/leeejihyun/data/train/{}.tif'.format(img_idx))\n",
    "    img = cv2.cvtColor(img, cv2.COLOR_BGR2RGB)\n",
    "    for aug_img_idx in range(num_samples):\n",
    "        aug_img = transform(image=img)['image']\n",
    "        cv2.imwrite('/home/workspace/user-workspace/leeejihyun/data/train/{}_aug{}.tif'.format(img_idx, aug_img_idx), aug_img)"
   ]
  },
  {
   "cell_type": "markdown",
   "metadata": {},
   "source": [
    "### Check the number of files to see if they are augmented correctly"
   ]
  },
  {
   "cell_type": "markdown",
   "metadata": {},
   "source": [
    "14073(train) + 14073(train) * 4(augmented data) + 1(train.csv) = 70366"
   ]
  },
  {
   "cell_type": "code",
   "execution_count": null,
   "metadata": {},
   "outputs": [],
   "source": [
    "file_names = os.listdir('/home/workspace/user-workspace/leeejihyun/data/train/')\n",
    "num_files = len(file_names)\n",
    "print(num_files)"
   ]
  },
  {
   "cell_type": "markdown",
   "metadata": {},
   "source": [
    "### Rewrite train.csv according to the augmented data"
   ]
  },
  {
   "cell_type": "code",
   "execution_count": null,
   "metadata": {},
   "outputs": [],
   "source": [
    "lines = []\n",
    "\n",
    "with open('/home/workspace/user-workspace/leeejihyun/data/train/train.csv', 'r') as fr:\n",
    "    header = fr.readline()\n",
    "    lines.append(header)\n",
    "    for line in range(len(train_df)):\n",
    "        line = fr.readline()\n",
    "        file_name = line.split(',')[0]\n",
    "        title_name = line.split(',')[1]\n",
    "        label = line.split(',')[2]\n",
    "        img_idx = int(file_name.split('.')[0])\n",
    "        for aug_img_idx in range(num_samples):\n",
    "            new_file_name = '{}_aug{}.tif'.format(img_idx, aug_img_idx)\n",
    "            new_line = '{},{},{}'.format(new_file_name, title_name, label)\n",
    "            line += new_line\n",
    "        lines.append(line)\n",
    "    \n",
    "lines"
   ]
  },
  {
   "cell_type": "code",
   "execution_count": null,
   "metadata": {},
   "outputs": [],
   "source": [
    "with open('/home/workspace/user-workspace/leeejihyun/data/train/train.csv', 'w') as fw:\n",
    "    for line in lines:\n",
    "        fw.write(line)"
   ]
  }
 ],
 "metadata": {
  "kernelspec": {
   "display_name": "Python 3",
   "language": "python",
   "name": "python3"
  },
  "language_info": {
   "codemirror_mode": {
    "name": "ipython",
    "version": 3
   },
   "file_extension": ".py",
   "mimetype": "text/x-python",
   "name": "python",
   "nbconvert_exporter": "python",
   "pygments_lexer": "ipython3",
   "version": "3.7.6"
  },
  "toc": {
   "base_numbering": 1,
   "nav_menu": {},
   "number_sections": false,
   "sideBar": true,
   "skip_h1_title": false,
   "title_cell": "Table of Contents",
   "title_sidebar": "Contents",
   "toc_cell": false,
   "toc_position": {},
   "toc_section_display": true,
   "toc_window_display": false
  }
 },
 "nbformat": 4,
 "nbformat_minor": 4
}
