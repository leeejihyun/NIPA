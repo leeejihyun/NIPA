{
 "cells": [
  {
   "cell_type": "markdown",
   "metadata": {
    "id": "YjygZ3yMz5k2"
   },
   "source": [
    "# Face Classification"
   ]
  },
  {
   "cell_type": "code",
   "execution_count": 34,
   "metadata": {},
   "outputs": [],
   "source": [
    "#3_5_1166, 3_20_45, 8_9_136, 13_6_981\n",
    "#.split('/')[0] .split('/')[1]\n",
    "#(3,5):0, (3,20):1, (4,2):2\n",
    "cls = {(3,5):0,(3,20):1,(4,2):2,(4,7):3,(4,11):4,(5,8):5,(7,1):6,\n",
    "       (7,20):7,(8,6):8,(8,9):9,(10,20):10,(11,14):11,(13,1):12,\n",
    "       (13,6):13,(13,9):14,(13,15):15,(13,16):16,(13,17):17,(13,18):18,(13,20):19}"
   ]
  },
  {
   "cell_type": "code",
   "execution_count": 36,
   "metadata": {},
   "outputs": [
    {
     "data": {
      "text/plain": [
       "0"
      ]
     },
     "execution_count": 36,
     "metadata": {},
     "output_type": "execute_result"
    }
   ],
   "source": [
    "a = '3_5_1166'\n",
    "cls[int(a.split('_')[0]),int(a.split('_')[1])] ##THIS!"
   ]
  },
  {
   "cell_type": "code",
   "execution_count": 52,
   "metadata": {},
   "outputs": [
    {
     "name": "stdout",
     "output_type": "stream",
     "text": [
      "dct {'10': 800, '11': 800, '15': 800, '16': 800, '17': 800, '18': 800, '12': 800, '19': 800, '13': 800, '14': 800, '1': 800, '0': 800, '4': 800, '2': 800, '3': 800, '5': 800, '6': 800, '7': 800, '8': 800, '9': 800}\n",
      "n: 16000\n"
     ]
    }
   ],
   "source": [
    "import os, shutil\n",
    "\n",
    "#os.chdir('./testing')#C:\\Users\\piai\\Documents\\Competition\n",
    "\n",
    "os.chdir('C:/Users\\piai/Documents/Competition/faceset')\n",
    "lst = []\n",
    "dct = {}\n",
    "n = 0 \n",
    "for f in os.listdir(\"train\"):\n",
    "    if not f == 'train.tsv':\n",
    "        n+=1\n",
    "        folderName = str(cls[int(f.split('_')[0]),int(f.split('_')[1])])\n",
    "        if folderName in dct:\n",
    "            dct[folderName] += 1\n",
    "        else:\n",
    "            dct[folderName] = 1\n",
    "        \n",
    "# print(len(lst))\n",
    "# print(lst)\n",
    "        if not os.path.exists(folderName):\n",
    "            os.mkdir(folderName)\n",
    "            shutil.copy(os.path.join('train', f), folderName)\n",
    "        else:\n",
    "            shutil.copy(os.path.join('train', f), folderName)\n",
    "print('dct',dct)\n",
    "print('n:',n)"
   ]
  },
  {
   "cell_type": "code",
   "execution_count": 53,
   "metadata": {},
   "outputs": [
    {
     "name": "stdout",
     "output_type": "stream",
     "text": [
      "[[0, 800], [1, 800], [2, 800], [3, 800], [4, 800], [5, 800], [6, 800], [7, 800], [8, 800], [9, 800], [10, 800], [11, 800], [12, 800], [13, 800], [14, 800], [15, 800], [16, 800], [17, 800], [18, 800], [19, 800]]\n"
     ]
    }
   ],
   "source": [
    "import os\n",
    "# dir = 'C:/Users\\piai/Documents/Competition/faceset/0'\n",
    "# list = os.listdir(dir) # dir is your directory path\n",
    "# number_files = len(list)\n",
    "# print(number_files)\n",
    "\n",
    "\n",
    "dir = 'C:/Users\\piai/Documents/Competition/faceset/'\n",
    "cnt_files = []\n",
    "for i in range(20):\n",
    "    list = os.listdir(dir+str(i)) # dir is your directory path\n",
    "    number_files = len(list)\n",
    "    cnt_files.append([i,number_files])\n",
    "print(cnt_files)\n"
   ]
  },
  {
   "cell_type": "markdown",
   "metadata": {
    "id": "kxKeLShWz5k5"
   },
   "source": [
    "### Library"
   ]
  },
  {
   "cell_type": "code",
   "execution_count": 1,
   "metadata": {
    "id": "fASiqRQez5k8",
    "outputId": "23d1c283-6260-451a-f203-b43f5bde8d58"
   },
   "outputs": [
    {
     "name": "stdout",
     "output_type": "stream",
     "text": [
      "device: gpu\n"
     ]
    }
   ],
   "source": [
    "import torch\n",
    "import torch.nn as nn\n",
    "import torch.optim as optim\n",
    "import torch.nn.init as init\n",
    "import torchvision\n",
    "import torchvision.transforms as transforms\n",
    "from torch.utils.data import DataLoader\n",
    "\n",
    "from matplotlib import pyplot as plt\n",
    "import numpy as np\n",
    "\n",
    "device = torch.device(\"cuda:0\" if torch.cuda.is_available() else \"cpu\")\n",
    "print(\"device: gpu\") if torch.cuda.is_available() else print(\"device: cpu\")"
   ]
  },
  {
   "cell_type": "markdown",
   "metadata": {
    "id": "4JT4yp3Az5lK"
   },
   "source": [
    "### hyperparameter setting"
   ]
  },
  {
   "cell_type": "code",
   "execution_count": 17,
   "metadata": {
    "id": "GsZ_Qfiqz5lM"
   },
   "outputs": [],
   "source": [
    "learning_rate = 1e-3\n",
    "training_epochs = 100 #300\n",
    "display_step = 10\n",
    "batch_size = 16 #32   \n",
    "\n",
    "activation = nn.ReLU()\n",
    "max_pool = nn.MaxPool2d(2,2)"
   ]
  },
  {
   "cell_type": "markdown",
   "metadata": {
    "id": "m2AHenrPz5lW"
   },
   "source": [
    "### Load data & Pre-process data"
   ]
  },
  {
   "cell_type": "code",
   "execution_count": 3,
   "metadata": {
    "id": "od72Skh9z5lY"
   },
   "outputs": [],
   "source": [
    "trans = transforms.Compose([transforms.Resize(32), transforms.ToTensor()]) \n",
    "dataset = torchvision.datasets.ImageFolder(root = 'C:/Users\\piai/Documents/Competition/faceset', transform = trans) "
   ]
  },
  {
   "cell_type": "code",
   "execution_count": 4,
   "metadata": {
    "id": "Iw4neLOsz5ld",
    "outputId": "2c39eb23-dcb5-4ba3-e0ab-d18155d3e8d1",
    "scrolled": false
   },
   "outputs": [
    {
     "data": {
      "text/plain": [
       "(tensor([[[0.0000, 0.0000, 0.0039,  ..., 0.5255, 0.5569, 0.2627],\n",
       "          [0.0000, 0.0000, 0.0000,  ..., 0.5294, 0.4627, 0.0902],\n",
       "          [0.0000, 0.0000, 0.0000,  ..., 0.5020, 0.2314, 0.0118],\n",
       "          ...,\n",
       "          [0.0000, 0.0000, 0.0000,  ..., 0.0000, 0.0000, 0.0000],\n",
       "          [0.0000, 0.0000, 0.0000,  ..., 0.0000, 0.0000, 0.0000],\n",
       "          [0.0000, 0.0000, 0.0000,  ..., 0.0000, 0.0000, 0.0000]],\n",
       " \n",
       "         [[0.0000, 0.0000, 0.0039,  ..., 0.5804, 0.5569, 0.2549],\n",
       "          [0.0000, 0.0000, 0.0000,  ..., 0.5922, 0.4588, 0.0824],\n",
       "          [0.0000, 0.0000, 0.0000,  ..., 0.5412, 0.2157, 0.0078],\n",
       "          ...,\n",
       "          [0.0000, 0.0000, 0.0000,  ..., 0.0000, 0.0000, 0.0000],\n",
       "          [0.0000, 0.0000, 0.0000,  ..., 0.0000, 0.0000, 0.0000],\n",
       "          [0.0000, 0.0000, 0.0000,  ..., 0.0000, 0.0000, 0.0000]],\n",
       " \n",
       "         [[0.0000, 0.0039, 0.0078,  ..., 0.4784, 0.4549, 0.2196],\n",
       "          [0.0000, 0.0000, 0.0039,  ..., 0.4824, 0.3882, 0.0784],\n",
       "          [0.0000, 0.0000, 0.0000,  ..., 0.4314, 0.1882, 0.0118],\n",
       "          ...,\n",
       "          [0.0000, 0.0000, 0.0000,  ..., 0.0000, 0.0000, 0.0000],\n",
       "          [0.0000, 0.0000, 0.0000,  ..., 0.0000, 0.0000, 0.0000],\n",
       "          [0.0000, 0.0000, 0.0000,  ..., 0.0000, 0.0000, 0.0000]]]),\n",
       " 0)"
      ]
     },
     "execution_count": 4,
     "metadata": {},
     "output_type": "execute_result"
    }
   ],
   "source": [
    "dataset.__getitem__(0)"
   ]
  },
  {
   "cell_type": "code",
   "execution_count": 5,
   "metadata": {
    "scrolled": true
   },
   "outputs": [
    {
     "data": {
      "text/plain": [
       "16000"
      ]
     },
     "execution_count": 5,
     "metadata": {},
     "output_type": "execute_result"
    }
   ],
   "source": [
    "len(dataset)"
   ]
  },
  {
   "cell_type": "code",
   "execution_count": 6,
   "metadata": {
    "scrolled": true
   },
   "outputs": [
    {
     "data": {
      "text/plain": [
       "['0',\n",
       " '1',\n",
       " '10',\n",
       " '11',\n",
       " '12',\n",
       " '13',\n",
       " '14',\n",
       " '15',\n",
       " '16',\n",
       " '17',\n",
       " '18',\n",
       " '19',\n",
       " '2',\n",
       " '3',\n",
       " '4',\n",
       " '5',\n",
       " '6',\n",
       " '7',\n",
       " '8',\n",
       " '9']"
      ]
     },
     "execution_count": 6,
     "metadata": {},
     "output_type": "execute_result"
    }
   ],
   "source": [
    "classes = dataset.classes\n",
    "classes"
   ]
  },
  {
   "cell_type": "code",
   "execution_count": 7,
   "metadata": {},
   "outputs": [
    {
     "data": {
      "text/plain": [
       "(12800.0, 3200.0)"
      ]
     },
     "execution_count": 7,
     "metadata": {},
     "output_type": "execute_result"
    }
   ],
   "source": [
    "len(dataset)*0.8, len(dataset)*0.2"
   ]
  },
  {
   "cell_type": "code",
   "execution_count": 8,
   "metadata": {},
   "outputs": [],
   "source": [
    "train_set, test_set = torch.utils.data.random_split(dataset, [12800, 3200])"
   ]
  },
  {
   "cell_type": "code",
   "execution_count": 9,
   "metadata": {},
   "outputs": [],
   "source": [
    "train_loader = DataLoader(train_set, batch_size = batch_size, shuffle = True, num_workers = 1, drop_last = True)\n",
    "test_loader = DataLoader(test_set, batch_size = batch_size, shuffle = True, num_workers = 1, drop_last = True)"
   ]
  },
  {
   "cell_type": "code",
   "execution_count": 10,
   "metadata": {
    "id": "KdfVUCZgz5l0",
    "outputId": "dd70fbce-315a-4172-ac70-d56d07804172"
   },
   "outputs": [
    {
     "name": "stdout",
     "output_type": "stream",
     "text": [
      "data shape:  torch.Size([32, 3, 32, 32])\n",
      "label:  tensor([15, 18, 10, 11,  1, 19, 17,  6, 19,  8, 19, 18,  0,  1,  4, 10,  3,  3,\n",
      "         1,  6, 18, 13, 13,  6,  4, 12,  5, 18, 16,  2, 10,  1])\n"
     ]
    },
    {
     "data": {
      "image/png": "[encoded data removed]",
      "text/plain": [
       "<Figure size 432x288 with 1 Axes>"
      ]
     },
     "metadata": {
      "needs_background": "light"
     },
     "output_type": "display_data"
    }
   ],
   "source": [
    "# check the data\n",
    "\n",
    "examples = enumerate(train_loader)\n",
    "batch_idx, (example_data, example_target) = next(examples)\n",
    "\n",
    "print('data shape: ', example_data.shape)\n",
    "print('label: ', example_target)\n",
    "\n",
    "\n",
    "check_image = example_data[0]\n",
    "check_image = np.transpose(check_image, (1,2,0))\n",
    "\n",
    "plt.figure()\n",
    "plt.imshow(check_image)\n",
    "plt.show()"
   ]
  },
  {
   "cell_type": "markdown",
   "metadata": {
    "id": "_zh1uzWoz5l3"
   },
   "source": [
    "### Model & Optimization and Loss function"
   ]
  },
  {
   "cell_type": "code",
   "execution_count": 11,
   "metadata": {
    "id": "X_2zZum5z5l3"
   },
   "outputs": [],
   "source": [
    "class CNN(nn.Module):\n",
    "    def __init__(self):\n",
    "        super(CNN, self).__init__() # for initializing nn.Module (parent class)\n",
    "        self.feature_extraction = nn.Sequential(\n",
    "            \n",
    "            # input_size = 32 X 32 X 3\n",
    "            nn.Conv2d(3, 64, 2), \n",
    "            activation,\n",
    "            nn.BatchNorm2d(64),\n",
    "            nn.Conv2d(64, 128,2),  \n",
    "            activation,\n",
    "            nn.BatchNorm2d(128),\n",
    "            max_pool,  \n",
    "            nn.Dropout2d(0.4),\n",
    "            \n",
    "            \n",
    "            nn.Conv2d(128,128,2), \n",
    "            activation,\n",
    "            nn.BatchNorm2d(128),\n",
    "            nn.Conv2d(128,256,3), \n",
    "            activation,\n",
    "            nn.BatchNorm2d(256),\n",
    "            max_pool,  \n",
    "            nn.Dropout2d(0.4),\n",
    "            \n",
    "            \n",
    "            nn.Conv2d(256,512,2),  \n",
    "            activation,\n",
    "            nn.BatchNorm2d(512),\n",
    "            nn.Conv2d(512,512,2), \n",
    "            activation,\n",
    "            nn.BatchNorm2d(512),\n",
    "            max_pool,  \n",
    "            nn.Dropout2d(0.4)\n",
    "            \n",
    "        )\n",
    "        self.classifier = nn.Sequential(\n",
    "            nn.Linear(512 * 2 * 2, 256),\n",
    "            activation,\n",
    "            nn.Linear(256, 10)\n",
    "        )\n",
    "        \n",
    "    def forward(self, x):\n",
    "        extracted_feature = self.feature_extraction(x) \n",
    "        flatten = extracted_feature.view(batch_size, -1)\n",
    "        result = self.classifier(flatten)\n",
    "        return result"
   ]
  },
  {
   "cell_type": "code",
   "execution_count": 13,
   "metadata": {},
   "outputs": [
    {
     "name": "stdout",
     "output_type": "stream",
     "text": [
      "Current cuda device  0\n",
      "GeForce GTX 1080 Ti\n",
      "Memory Usage:\n",
      "Allocated: 0.0 GB\n",
      "Cached:    0.0 GB\n"
     ]
    },
    {
     "name": "stderr",
     "output_type": "stream",
     "text": [
      "C:\\Users\\piai\\anaconda3\\envs\\pytorch\\lib\\site-packages\\torch\\cuda\\memory.py:344: FutureWarning: torch.cuda.memory_cached has been renamed to torch.cuda.memory_reserved\n",
      "  warnings.warn(\n"
     ]
    }
   ],
   "source": [
    "# GPU 할당 변경하기\n",
    "GPU_NUM = 0 # 원하는 GPU 번호 입력\n",
    "device = torch.device(f'cuda:{GPU_NUM}' if torch.cuda.is_available() else 'cpu')\n",
    "torch.cuda.set_device(device) # change allocation of current GPU\n",
    "print ('Current cuda device ', torch.cuda.current_device()) # check\n",
    "\n",
    "# Additional Infos\n",
    "if device.type == 'cuda':\n",
    "    print(torch.cuda.get_device_name(GPU_NUM))\n",
    "    print('Memory Usage:')\n",
    "    print('Allocated:', round(torch.cuda.memory_allocated(GPU_NUM)/1024**3,1), 'GB')\n",
    "    print('Cached:   ', round(torch.cuda.memory_cached(GPU_NUM)/1024**3,1), 'GB')"
   ]
  },
  {
   "cell_type": "code",
   "execution_count": 14,
   "metadata": {
    "id": "qVC0BpaMz5l5"
   },
   "outputs": [],
   "source": [
    "model = CNN().to(device)\n",
    "model.train()\n",
    "loss_function = nn.CrossEntropyLoss()\n",
    "optimizer = optim.Adam(model.parameters(), lr = learning_rate)"
   ]
  },
  {
   "cell_type": "markdown",
   "metadata": {
    "id": "usHtYxRzz5l7"
   },
   "source": [
    "### Train & Test"
   ]
  },
  {
   "cell_type": "code",
   "execution_count": 18,
   "metadata": {
    "id": "wCqQes4Oz5l7",
    "outputId": "4cbafc3a-6a2b-4f57-acfd-0bcee8cfbb45"
   },
   "outputs": [
    {
     "ename": "RuntimeError",
     "evalue": "CUDA error: device-side assert triggered",
     "output_type": "error",
     "traceback": [
      "\u001b[1;31m---------------------------------------------------------------------------\u001b[0m",
      "\u001b[1;31mRuntimeError\u001b[0m                              Traceback (most recent call last)",
      "\u001b[1;32m<ipython-input-18-4fad095c00c1>\u001b[0m in \u001b[0;36m<module>\u001b[1;34m\u001b[0m\n\u001b[0;32m      5\u001b[0m \u001b[1;32mfor\u001b[0m \u001b[0mi\u001b[0m \u001b[1;32min\u001b[0m \u001b[0mrange\u001b[0m\u001b[1;33m(\u001b[0m\u001b[0mtraining_epochs\u001b[0m\u001b[1;33m)\u001b[0m\u001b[1;33m:\u001b[0m\u001b[1;33m\u001b[0m\u001b[1;33m\u001b[0m\u001b[0m\n\u001b[0;32m      6\u001b[0m     \u001b[1;32mfor\u001b[0m \u001b[0midx\u001b[0m\u001b[1;33m,\u001b[0m \u001b[1;33m[\u001b[0m\u001b[0mdata\u001b[0m\u001b[1;33m,\u001b[0m \u001b[0mlabel\u001b[0m\u001b[1;33m]\u001b[0m \u001b[1;32min\u001b[0m \u001b[0menumerate\u001b[0m\u001b[1;33m(\u001b[0m\u001b[0mtrain_loader\u001b[0m\u001b[1;33m)\u001b[0m\u001b[1;33m:\u001b[0m\u001b[1;33m\u001b[0m\u001b[1;33m\u001b[0m\u001b[0m\n\u001b[1;32m----> 7\u001b[1;33m         \u001b[0mdata\u001b[0m \u001b[1;33m=\u001b[0m \u001b[0mdata\u001b[0m\u001b[1;33m.\u001b[0m\u001b[0mto\u001b[0m\u001b[1;33m(\u001b[0m\u001b[0mdevice\u001b[0m\u001b[1;33m)\u001b[0m\u001b[1;33m\u001b[0m\u001b[1;33m\u001b[0m\u001b[0m\n\u001b[0m\u001b[0;32m      8\u001b[0m         \u001b[0mlabel\u001b[0m \u001b[1;33m=\u001b[0m \u001b[0mlabel\u001b[0m\u001b[1;33m.\u001b[0m\u001b[0mto\u001b[0m\u001b[1;33m(\u001b[0m\u001b[0mdevice\u001b[0m\u001b[1;33m)\u001b[0m\u001b[1;33m\u001b[0m\u001b[1;33m\u001b[0m\u001b[0m\n\u001b[0;32m      9\u001b[0m \u001b[1;33m\u001b[0m\u001b[0m\n",
      "\u001b[1;31mRuntimeError\u001b[0m: CUDA error: device-side assert triggered"
     ]
    }
   ],
   "source": [
    "#https://brstar96.github.io/shoveling/device_error_summary/\n",
    "loss_array = []\n",
    "    \n",
    "#train the model\n",
    "for i in range(training_epochs):\n",
    "    for idx, [data, label] in enumerate(train_loader):\n",
    "        data = data.to(device)\n",
    "        label = label.to(device)\n",
    "        \n",
    "        optimizer.zero_grad()\n",
    "        output = model.forward(data)\n",
    "        loss = loss_function(output, label)\n",
    "        loss.backward()\n",
    "        optimizer.step()\n",
    "        \n",
    "    if i % display_step == 0:\n",
    "        print('{} epoch loss: {}'.format(i, loss))\n",
    "        loss_array.append(loss.cpu().detach().numpy())"
   ]
  },
  {
   "cell_type": "code",
   "execution_count": null,
   "metadata": {
    "id": "mzOxPErwz5l-",
    "outputId": "9cbca5b3-1e5a-4abf-c96a-9a7ea762117a"
   },
   "outputs": [
    {
     "data": {
      "image/png": "[encoded data removed]",
      "text/plain": [
       "<Figure size 432x288 with 1 Axes>"
      ]
     },
     "metadata": {
      "needs_background": "light",
      "tags": []
     },
     "output_type": "display_data"
    }
   ],
   "source": [
    "plt.figure()\n",
    "plt.plot(loss_array)\n",
    "plt.show()"
   ]
  },
  {
   "cell_type": "code",
   "execution_count": null,
   "metadata": {
    "id": "QRdJHMtez5mA",
    "outputId": "65040166-9654-488b-8cf9-f83ee45f1e44"
   },
   "outputs": [
    {
     "name": "stdout",
     "output_type": "stream",
     "text": [
      "Valid accuracy: 0.9166666865348816\n"
     ]
    }
   ],
   "source": [
    "#test the model\n",
    "model.eval()\n",
    "correct = 0\n",
    "total = 0\n",
    "\n",
    "prediction_list = []\n",
    "label_list = []\n",
    "\n",
    "with torch.no_grad():\n",
    "    for index, [data, label] in enumerate(test_loader):\n",
    "        data = data.to(device)\n",
    "        label = label.to(device)\n",
    "        \n",
    "        output = model.forward(data)\n",
    "        _, prediction_index = torch.max(output, 1)\n",
    "        \n",
    "        prediction_list.append(prediction_index)\n",
    "        label_list.append(label)\n",
    "        \n",
    "        total += label.size(0)\n",
    "        correct += (prediction_index == label).sum().float()\n",
    "\n",
    "    print(\"Test accuracy: {}\".format(correct/total))"
   ]
  },
  {
   "cell_type": "code",
   "execution_count": null,
   "metadata": {
    "id": "f2U9OVedz5mM"
   },
   "outputs": [],
   "source": []
  }
 ],
 "metadata": {
  "colab": {
   "collapsed_sections": [],
   "name": "image_classification_윤슬아.ipynb",
   "provenance": [
    {
     "file_id": "1FdHDeRbrUmGl3YO4VDU1noRTipcF4z8y",
     "timestamp": 1603529594650
    }
   ]
  },
  "kernelspec": {
   "display_name": "Python 3",
   "language": "python",
   "name": "python3"
  },
  "language_info": {
   "codemirror_mode": {
    "name": "ipython",
    "version": 3
   },
   "file_extension": ".py",
   "mimetype": "text/x-python",
   "name": "python",
   "nbconvert_exporter": "python",
   "pygments_lexer": "ipython3",
   "version": "3.8.5"
  }
 },
 "nbformat": 4,
 "nbformat_minor": 1
}
